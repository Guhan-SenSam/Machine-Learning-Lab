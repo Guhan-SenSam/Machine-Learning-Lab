{
  "cells": [
    {
      "cell_type": "markdown",
      "id": "f76a80b9",
      "metadata": {
        "id": "f76a80b9"
      },
      "source": [
        "## Importing Necessary Modules"
      ]
    },
    {
      "cell_type": "code",
      "execution_count": 13,
      "id": "1a6b7280",
      "metadata": {
        "id": "1a6b7280"
      },
      "outputs": [],
      "source": [
        "import numpy as np\n",
        "import pandas as pd\n",
        "from sklearn.model_selection import train_test_split\n",
        "from sklearn.neighbors import KNeighborsClassifier, KNeighborsRegressor\n",
        "from sklearn.metrics import accuracy_score, mean_squared_error\n",
        "import matplotlib.pyplot as plt\n",
        "\n",
        "dataset_path = \"/content/data.csv\"\n",
        "df = pd.read_csv(dataset_path)\n",
        "\n",
        "df.drop(columns=['emp_id'], inplace=True)\n",
        "X = df.drop(columns=['risk_score'])\n",
        "y = df['risk_score']"
      ]
    },
    {
      "cell_type": "markdown",
      "id": "f1e8ae73",
      "metadata": {
        "id": "f1e8ae73"
      },
      "source": [
        "## Spliting the Dataset"
      ]
    },
    {
      "cell_type": "code",
      "execution_count": 2,
      "id": "1fa82398",
      "metadata": {
        "id": "1fa82398"
      },
      "outputs": [],
      "source": [
        "# Split the dataset into training and testing sets\n",
        "X_train, X_test, y_train, y_test = train_test_split(X, y, test_size=0.2, random_state=42)"
      ]
    },
    {
      "cell_type": "markdown",
      "id": "b431a7db",
      "metadata": {
        "id": "b431a7db"
      },
      "source": [
        "## Finding train and test accuracy with Euclidean,Manhattan,Minkowski distance"
      ]
    },
    {
      "cell_type": "code",
      "execution_count": 3,
      "id": "f7a1778a",
      "metadata": {
        "colab": {
          "base_uri": "https://localhost:8080/"
        },
        "id": "f7a1778a",
        "outputId": "96eda207-7866-4e34-e49e-5e06f5a80790"
      },
      "outputs": [
        {
          "output_type": "stream",
          "name": "stdout",
          "text": [
            "Distance Metric: euclidean\n",
            "Train Accuracy: 0.3341477034761971\n",
            "Test Accuracy: 0.0008375209380234506\n",
            "\n",
            "Distance Metric: manhattan\n",
            "Train Accuracy: 0.3338684908557867\n",
            "Test Accuracy: 0.0008375209380234506\n",
            "\n",
            "Distance Metric: minkowski\n",
            "Train Accuracy: 0.3341477034761971\n",
            "Test Accuracy: 0.0008375209380234506\n",
            "\n"
          ]
        }
      ],
      "source": [
        "def evaluate_knn_classifier(X_train, X_test, y_train, y_test, n_neighbors, distance_metric):\n",
        "    knn_classifier = KNeighborsClassifier(n_neighbors=n_neighbors, metric=distance_metric)\n",
        "    knn_classifier.fit(X_train, y_train)\n",
        "    train_pred = knn_classifier.predict(X_train)\n",
        "    test_pred = knn_classifier.predict(X_test)\n",
        "    train_accuracy = accuracy_score(y_train, train_pred)\n",
        "    test_accuracy = accuracy_score(y_test, test_pred)\n",
        "    return train_accuracy, test_accuracy\n",
        "\n",
        "n_neighbors = 3\n",
        "distance_metrics = ['euclidean', 'manhattan', 'minkowski']\n",
        "\n",
        "for metric in distance_metrics:\n",
        "    train_acc, test_acc = evaluate_knn_classifier(X_train, X_test, y_train, y_test, n_neighbors, metric)\n",
        "    print(f\"Distance Metric: {metric}\")\n",
        "    print(f\"Train Accuracy: {train_acc}\")\n",
        "    print(f\"Test Accuracy: {test_acc}\")\n",
        "    print()\n"
      ]
    },
    {
      "cell_type": "markdown",
      "id": "2a63d530",
      "metadata": {
        "id": "2a63d530"
      },
      "source": [
        "## Optimal K value:"
      ]
    },
    {
      "cell_type": "code",
      "execution_count": 4,
      "id": "17438453",
      "metadata": {
        "colab": {
          "base_uri": "https://localhost:8080/"
        },
        "id": "17438453",
        "outputId": "2c885548-c471-4011-97c8-d64421ea0ac3"
      },
      "outputs": [
        {
          "output_type": "stream",
          "name": "stdout",
          "text": [
            "Optimal K value: 10\n",
            "Test Accuracy with Optimal K: 0.0013958682300390843\n"
          ]
        }
      ],
      "source": [
        "def find_optimal_k(X_train, X_test, y_train, y_test, max_k, distance_metric):\n",
        "    best_k = 0\n",
        "    best_test_accuracy = 0\n",
        "    for k in range(1, max_k + 1):\n",
        "        _, test_acc = evaluate_knn_classifier(X_train, X_test, y_train, y_test, k, distance_metric)\n",
        "        if test_acc > best_test_accuracy:\n",
        "            best_test_accuracy = test_acc\n",
        "            best_k = k\n",
        "    return best_k, best_test_accuracy\n",
        "\n",
        "# Find optimal K value\n",
        "max_k = 12\n",
        "optimal_k, optimal_test_accuracy = find_optimal_k(X_train, X_test, y_train, y_test, max_k, 'euclidean')\n",
        "print(f\"Optimal K value: {optimal_k}\")\n",
        "print(f\"Test Accuracy with Optimal K: {optimal_test_accuracy}\")"
      ]
    },
    {
      "cell_type": "markdown",
      "id": "1cf02108",
      "metadata": {
        "id": "1cf02108"
      },
      "source": [
        "## Rebuild KNN classifier with The Optimal K: (i.e. find the best clusetering)"
      ]
    },
    {
      "cell_type": "code",
      "execution_count": 5,
      "id": "3bd87573",
      "metadata": {
        "colab": {
          "base_uri": "https://localhost:8080/"
        },
        "id": "3bd87573",
        "outputId": "942c958d-e152-4ef6-9091-826303e9eb5d"
      },
      "outputs": [
        {
          "output_type": "stream",
          "name": "stdout",
          "text": [
            "Mean Squared Error (Regression): 235494991.5410385\n"
          ]
        }
      ],
      "source": [
        "optimal_knn_classifier = KNeighborsClassifier(n_neighbors=optimal_k, metric='euclidean')\n",
        "optimal_knn_classifier.fit(X_train, y_train)\n",
        "\n",
        "\n",
        "\n",
        "knn_regressor = KNeighborsRegressor(n_neighbors=5)  # You can adjust n_neighbors\n",
        "knn_regressor.fit(X_train, y_train)\n",
        "y_pred_regression = knn_regressor.predict(X_test)\n",
        "mse_regression = mean_squared_error(y_test, y_pred_regression)\n",
        "print(f\"Mean Squared Error (Regression): {mse_regression}\")"
      ]
    },
    {
      "cell_type": "markdown",
      "id": "99273ea7",
      "metadata": {
        "id": "99273ea7"
      },
      "source": [
        "## Visualize the Mean Square Error"
      ]
    },
    {
      "cell_type": "code",
      "execution_count": 14,
      "id": "a6336741",
      "metadata": {
        "colab": {
          "base_uri": "https://localhost:8080/",
          "height": 228
        },
        "id": "a6336741",
        "outputId": "c2734f49-8388-494a-e234-78d0dfb015ee"
      },
      "outputs": [
        {
          "output_type": "error",
          "ename": "NameError",
          "evalue": "name 'train_mse_reg' is not defined",
          "traceback": [
            "\u001b[0;31m---------------------------------------------------------------------------\u001b[0m",
            "\u001b[0;31mNameError\u001b[0m                                 Traceback (most recent call last)",
            "\u001b[0;32m<ipython-input-14-ffbce2b3fccc>\u001b[0m in \u001b[0;36m<cell line: 2>\u001b[0;34m()\u001b[0m\n\u001b[1;32m      1\u001b[0m \u001b[0mplt\u001b[0m\u001b[0;34m.\u001b[0m\u001b[0mfigure\u001b[0m\u001b[0;34m(\u001b[0m\u001b[0mfigsize\u001b[0m\u001b[0;34m=\u001b[0m\u001b[0;34m(\u001b[0m\u001b[0;36m8\u001b[0m\u001b[0;34m,\u001b[0m \u001b[0;36m6\u001b[0m\u001b[0;34m)\u001b[0m\u001b[0;34m)\u001b[0m\u001b[0;34m\u001b[0m\u001b[0;34m\u001b[0m\u001b[0m\n\u001b[0;32m----> 2\u001b[0;31m \u001b[0mplt\u001b[0m\u001b[0;34m.\u001b[0m\u001b[0mplot\u001b[0m\u001b[0;34m(\u001b[0m\u001b[0mtrain_mse_reg\u001b[0m\u001b[0;34m,\u001b[0m \u001b[0mlabel\u001b[0m\u001b[0;34m=\u001b[0m\u001b[0;34m'Train MSE'\u001b[0m\u001b[0;34m)\u001b[0m\u001b[0;34m\u001b[0m\u001b[0;34m\u001b[0m\u001b[0m\n\u001b[0m\u001b[1;32m      3\u001b[0m \u001b[0mplt\u001b[0m\u001b[0;34m.\u001b[0m\u001b[0mplot\u001b[0m\u001b[0;34m(\u001b[0m\u001b[0mtest_mse_reg\u001b[0m\u001b[0;34m,\u001b[0m \u001b[0mlabel\u001b[0m\u001b[0;34m=\u001b[0m\u001b[0;34m'Test MSE'\u001b[0m\u001b[0;34m)\u001b[0m\u001b[0;34m\u001b[0m\u001b[0;34m\u001b[0m\u001b[0m\n\u001b[1;32m      4\u001b[0m \u001b[0mplt\u001b[0m\u001b[0;34m.\u001b[0m\u001b[0mtitle\u001b[0m\u001b[0;34m(\u001b[0m\u001b[0;34m'Train and Test Mean Squared Error (Regression)'\u001b[0m\u001b[0;34m)\u001b[0m\u001b[0;34m\u001b[0m\u001b[0;34m\u001b[0m\u001b[0m\n\u001b[1;32m      5\u001b[0m \u001b[0mplt\u001b[0m\u001b[0;34m.\u001b[0m\u001b[0mxlabel\u001b[0m\u001b[0;34m(\u001b[0m\u001b[0;34m'Model configurations'\u001b[0m\u001b[0;34m)\u001b[0m\u001b[0;34m\u001b[0m\u001b[0;34m\u001b[0m\u001b[0m\n",
            "\u001b[0;31mNameError\u001b[0m: name 'train_mse_reg' is not defined"
          ]
        },
        {
          "output_type": "display_data",
          "data": {
            "text/plain": [
              "<Figure size 800x600 with 0 Axes>"
            ]
          },
          "metadata": {}
        }
      ],
      "source": [
        "plt.figure(figsize=(8, 6))\n",
        "plt.plot(train_mse_reg, label='Train MSE')\n",
        "plt.plot(test_mse_reg, label='Test MSE')\n",
        "plt.title('Train and Test Mean Squared Error (Regression)')\n",
        "plt.xlabel('Model configurations')\n",
        "plt.ylabel('Mean Squared Error')\n",
        "plt.legend()\n",
        "plt.show()\n",
        "\n",
        "plt.figure(figsize=(8, 6))\n",
        "plt.plot(train_accuracy_cls, label='Train Accuracy')\n",
        "plt.plot(test_accuracy_cls, label='Test Accuracy')\n",
        "plt.title('Train and Test Accuracy (Classification)')\n",
        "plt.xlabel('Model configurations')\n",
        "plt.ylabel('Accuracy')\n",
        "plt.legend()\n",
        "plt.show()\n",
        "\n",
        "knn_cls_optimal = KNeighborsClassifier(n_neighbors=optimal_k)\n",
        "knn_cls_optimal.fit(X_train_scaled, y_train)\n",
        "y_pred_cls = knn_cls_optimal.predict(X_test_scaled)\n",
        "cm = confusion_matrix(y_test, y_pred_cls)\n",
        "plt.figure(figsize=(8, 6))\n",
        "plt.imshow(cm, interpolation='nearest', cmap=plt.cm.Blues)\n",
        "plt.title('Confusion matrix')\n",
        "plt.colorbar()\n",
        "plt.xlabel('True label')\n",
        "plt.ylabel('Predicted label')\n",
        "plt.show()"
      ]
    },
    {
      "cell_type": "markdown",
      "source": [
        "![image_2024-02-23_124238911.png](data:image/png;base64,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)"
      ],
      "metadata": {
        "id": "JpbCRcFozvG2"
      },
      "id": "JpbCRcFozvG2"
    }
  ],
  "metadata": {
    "kernelspec": {
      "display_name": "Python 3 (ipykernel)",
      "language": "python",
      "name": "python3"
    },
    "language_info": {
      "codemirror_mode": {
        "name": "ipython",
        "version": 3
      },
      "file_extension": ".py",
      "mimetype": "text/x-python",
      "name": "python",
      "nbconvert_exporter": "python",
      "pygments_lexer": "ipython3",
      "version": "3.9.12"
    },
    "colab": {
      "provenance": []
    }
  },
  "nbformat": 4,
  "nbformat_minor": 5
}